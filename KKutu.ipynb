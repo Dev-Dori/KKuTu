{
 "cells": [
  {
   "cell_type": "code",
   "execution_count": 1,
   "id": "handmade-story",
   "metadata": {},
   "outputs": [],
   "source": [
    "from selenium import webdriver\n",
    "\n",
    "driver = webdriver.Chrome('chromedriver.exe')\n",
    "driver.get(\"https://kkutu.io/?server=0\")"
   ]
  },
  {
   "cell_type": "code",
   "execution_count": 2,
   "id": "elegant-disco",
   "metadata": {},
   "outputs": [],
   "source": [
    "# driver.delete_all_cookies()\n",
    "# driver.add_cookie({\n",
    "#     \"domain\":\"kkutu.io\",\n",
    "#     \"name\": \"KKUTU-WEB-SESSION\",\n",
    "#     \"path\": \"/\",\n",
    "#     \"sameSite\": \"unspecified\",\n",
    "#     \"storeId\": \"0\",\n",
    "#     \"value\": \"7896AA0740EB50F6BE39D9A1DB36DF6D\",\n",
    "#     \"id\": 5\n",
    "# })"
   ]
  },
  {
   "cell_type": "code",
   "execution_count": 3,
   "id": "accompanied-netherlands",
   "metadata": {},
   "outputs": [],
   "source": [
    "def now():\n",
    "    element = driver.find_element_by_class_name(\"jjoDisplayBar\")\n",
    "    return element.text[:element.text.index(\"\\n\")]"
   ]
  },
  {
   "cell_type": "code",
   "execution_count": 11,
   "id": "administrative-desire",
   "metadata": {},
   "outputs": [
    {
     "name": "stdout",
     "output_type": "stream",
     "text": [
      "정\n"
     ]
    }
   ],
   "source": [
    "print(now())"
   ]
  },
  {
   "cell_type": "code",
   "execution_count": 209,
   "id": "incorrect-argentina",
   "metadata": {},
   "outputs": [],
   "source": [
    "def send(message):\n",
    "    input_tag = driver.find_element_by_xpath('//*[@id=\"uUbns\"]')\n",
    "    input_tag.send_keys(message + \"\\n\")\n",
    "    driver.find_element_by_xpath('//*[@id=\"oGULq\"]').click()"
   ]
  },
  {
   "cell_type": "code",
   "execution_count": 210,
   "id": "chronic-parliament",
   "metadata": {},
   "outputs": [
    {
     "name": "stdout",
     "output_type": "stream",
     "text": [
      "값을 입력하시오 : test\n"
     ]
    }
   ],
   "source": [
    "send(input(\"값을 입력하시오 : \"))"
   ]
  },
  {
   "cell_type": "code",
   "execution_count": 7,
   "id": "fifth-majority",
   "metadata": {},
   "outputs": [
    {
     "name": "stdout",
     "output_type": "stream",
     "text": [
      "데이터 개수: 508142개\n"
     ]
    }
   ],
   "source": [
    "import csv\n",
    "\n",
    "f = open(\"korean.csv\", 'r' ,encoding=\"utf-8-sig\")\n",
    "reader = csv.reader(f)\n",
    "\n",
    "result = []\n",
    "for line in reader:\n",
    "    result.append(line)\n",
    "    \n",
    "print(\"데이터 개수: \" + str(len(result)) + \"개\")\n",
    "f.close()"
   ]
  },
  {
   "cell_type": "code",
   "execution_count": 8,
   "id": "fifth-twist",
   "metadata": {},
   "outputs": [
    {
     "name": "stdout",
     "output_type": "stream",
     "text": [
      "['간지럽다', '형용사']\n"
     ]
    }
   ],
   "source": [
    "print(result[10001])"
   ]
  },
  {
   "cell_type": "code",
   "execution_count": 9,
   "id": "everyday-upset",
   "metadata": {},
   "outputs": [],
   "source": [
    "def get_words(start):\n",
    "    text_list = []\n",
    "    for i in result:\n",
    "        if i[0].startswith(start) and not i[0].endswith('다'):\n",
    "            if \"-\" in i[0] or \"^\" in i[0] or \" \" in i[0]:\n",
    "                continue\n",
    "            text = i[0]\n",
    "            if len(text) >= 2:\n",
    "                text_list.append(text.replace(\"\",\"\"))\n",
    "    text_list = list(set(text_list))\n",
    "    text_list.sort(key=lambda item: (len(item),item), reverse=True)\n",
    "    return text_list\n"
   ]
  },
  {
   "cell_type": "code",
   "execution_count": 230,
   "id": "above-lafayette",
   "metadata": {},
   "outputs": [
    {
     "name": "stdout",
     "output_type": "stream",
     "text": [
      "단어 전송: 느헤미야\n",
      "단어 전송: 야위죽야위죽\n",
      "단어 전송: 빛전기증배관\n",
      "단어 전송: 관형공기예열기\n",
      "단어 전송: 술폰산형수지\n",
      "단어 전송: 지구화학적지시물\n",
      "단어 전송: 선하심후하심\n",
      "단어 전송: 심실사이벽결손증\n"
     ]
    },
    {
     "ename": "KeyboardInterrupt",
     "evalue": "",
     "output_type": "error",
     "traceback": [
      "\u001b[1;31m---------------------------------------------------------------------------\u001b[0m",
      "\u001b[1;31mKeyboardInterrupt\u001b[0m                         Traceback (most recent call last)",
      "\u001b[1;32m<ipython-input-230-8a20854a3b1f>\u001b[0m in \u001b[0;36m<module>\u001b[1;34m\u001b[0m\n\u001b[0;32m     22\u001b[0m         \u001b[1;32mif\u001b[0m \u001b[0mlen\u001b[0m\u001b[1;33m(\u001b[0m\u001b[0mstart\u001b[0m\u001b[1;33m)\u001b[0m \u001b[1;33m==\u001b[0m \u001b[1;36m1\u001b[0m\u001b[1;33m:\u001b[0m\u001b[1;33m\u001b[0m\u001b[1;33m\u001b[0m\u001b[0m\n\u001b[0;32m     23\u001b[0m             \u001b[0mattack\u001b[0m\u001b[1;33m(\u001b[0m\u001b[0mstart\u001b[0m\u001b[1;33m)\u001b[0m\u001b[1;33m\u001b[0m\u001b[1;33m\u001b[0m\u001b[0m\n\u001b[1;32m---> 24\u001b[1;33m         \u001b[0msleep\u001b[0m\u001b[1;33m(\u001b[0m\u001b[1;36m1.8\u001b[0m\u001b[1;33m)\u001b[0m\u001b[1;33m\u001b[0m\u001b[1;33m\u001b[0m\u001b[0m\n\u001b[0m",
      "\u001b[1;31mKeyboardInterrupt\u001b[0m: "
     ]
    }
   ],
   "source": [
    "import random\n",
    "from time import sleep\n",
    "\n",
    "def attack(start):\n",
    "    my_list = get_words(start)\n",
    "    if len(my_list) == 0 :\n",
    "        print(\"사전에서 찾을 수 없습니다.\")\n",
    "        return \n",
    "    length = len(my_list)\n",
    "    if len(my_list) >10:\n",
    "        length = 5\n",
    "    \n",
    "    i = random.randrange(0, length)\n",
    "    message =  my_list[i]\n",
    "    print(\"단어 전송: \" + message)\n",
    "    send(message)\n",
    "\n",
    "while(1):\n",
    "        start = now()\n",
    "        if '(' in start:\n",
    "            start = start[2] # 인덱스 안 값으로 변경\n",
    "        if len(start) == 1:\n",
    "            attack(start)\n",
    "        sleep(1.8)\n"
   ]
  },
  {
   "cell_type": "code",
   "execution_count": null,
   "id": "loving-indianapolis",
   "metadata": {},
   "outputs": [],
   "source": []
  },
  {
   "cell_type": "code",
   "execution_count": null,
   "id": "abstract-maintenance",
   "metadata": {},
   "outputs": [],
   "source": []
  },
  {
   "cell_type": "code",
   "execution_count": null,
   "id": "beautiful-publicity",
   "metadata": {},
   "outputs": [],
   "source": []
  },
  {
   "cell_type": "code",
   "execution_count": null,
   "id": "impaired-neighbor",
   "metadata": {},
   "outputs": [],
   "source": []
  },
  {
   "cell_type": "code",
   "execution_count": null,
   "id": "close-domain",
   "metadata": {},
   "outputs": [],
   "source": []
  },
  {
   "cell_type": "code",
   "execution_count": null,
   "id": "conditional-correspondence",
   "metadata": {},
   "outputs": [],
   "source": []
  },
  {
   "cell_type": "code",
   "execution_count": null,
   "id": "modified-warren",
   "metadata": {},
   "outputs": [],
   "source": []
  },
  {
   "cell_type": "code",
   "execution_count": null,
   "id": "neural-pointer",
   "metadata": {},
   "outputs": [],
   "source": []
  }
 ],
 "metadata": {
  "kernelspec": {
   "display_name": "Python 3",
   "language": "python",
   "name": "python3"
  },
  "language_info": {
   "codemirror_mode": {
    "name": "ipython",
    "version": 3
   },
   "file_extension": ".py",
   "mimetype": "text/x-python",
   "name": "python",
   "nbconvert_exporter": "python",
   "pygments_lexer": "ipython3",
   "version": "3.7.9"
  }
 },
 "nbformat": 4,
 "nbformat_minor": 5
}
